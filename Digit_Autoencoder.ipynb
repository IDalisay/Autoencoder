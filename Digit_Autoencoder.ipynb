{
 "cells": [
  {
   "cell_type": "code",
   "execution_count": 1,
   "id": "98f746d6-b3a0-4c21-a207-20bf821e7cd1",
   "metadata": {
    "tags": []
   },
   "outputs": [
    {
     "name": "stderr",
     "output_type": "stream",
     "text": [
      "Using TensorFlow backend.\n"
     ]
    }
   ],
   "source": [
    "import pandas as pd\n",
    "import numpy as np\n",
    "import matplotlib.pyplot as plt\n",
    "from keras.models import Model\n",
    "from keras.layers import Input, Conv2D, MaxPooling2D, UpSampling2D, Conv2DTranspose\n",
    "from keras.optimizers import Adam\n",
    "\n",
    "import warnings\n",
    "from matplotlib import MatplotlibDeprecationWarning\n",
    "warnings.filterwarnings(\"ignore\", category=MatplotlibDeprecationWarning)"
   ]
  },
  {
   "cell_type": "markdown",
   "id": "bcbfaf20-1d60-498d-8904-5e150d77bfa2",
   "metadata": {},
   "source": [
    "<b>Problem Statement </b> <br>\n",
    "You are working with a team that is developing a mobile app for doing arithmetic by hand, in Arabic. The app will recognize digits in the user's handwriting as part of its functionality. In order to use a minimum amount of data, your job as a developer is to store each hand-drawn digit using as little memory as possible. Using a dataset of hand drawn Arabic digits, you will train an autoencoder to encode and decode these images."
   ]
  },
  {
   "cell_type": "markdown",
   "id": "29843fc6-c10d-492e-aedc-4609680717cd",
   "metadata": {},
   "source": [
    "### Question 1A"
   ]
  },
  {
   "cell_type": "code",
   "execution_count": 2,
   "id": "6ce4aaf3-5570-41f2-898a-65eb1d222b89",
   "metadata": {
    "tags": []
   },
   "outputs": [
    {
     "data": {
      "text/plain": [
       "(10000, 784)"
      ]
     },
     "execution_count": 2,
     "metadata": {},
     "output_type": "execute_result"
    }
   ],
   "source": [
    "# Load data into pandas dataframe\n",
    "digit_pd_data = pd.read_csv('csvImages 10K x 784.csv', header=None)\n",
    "\n",
    "# convert df to numpy array using pandas.values\n",
    "digit_np_data = digit_pd_data.values\n",
    "\n",
    "# printing shape of data\n",
    "digit_np_data.shape"
   ]
  },
  {
   "cell_type": "markdown",
   "id": "a25e8503-d023-4abc-b3a7-f2d86b26f518",
   "metadata": {
    "tags": []
   },
   "source": [
    "### Question 1B"
   ]
  },
  {
   "cell_type": "code",
   "execution_count": 3,
   "id": "905e4e97-896f-4101-8868-709041bad207",
   "metadata": {
    "tags": []
   },
   "outputs": [
    {
     "data": {
      "image/png": "[encoded data removed]",
      "text/plain": [
       "<Figure size 1000x500 with 5 Axes>"
      ]
     },
     "metadata": {},
     "output_type": "display_data"
    }
   ],
   "source": [
    "# normalize each value by 255\n",
    "digit_np_data = digit_np_data / 255.0\n",
    "\n",
    "# reshape the array so each image is 28 x 28 using numpy.ndarray.reshape\n",
    "digit_np_data_reshaped = digit_np_data.reshape(-1, 28, 28)\n",
    "\n",
    "# plot first 5 images using matplotlib.plot.imshow and matplotlib.plot.subplot\n",
    "# 'gray' colour map. \n",
    "plt.figure(figsize=(10, 5))\n",
    "for i in range(5):\n",
    "    plt.subplot(1, 5, i + 1)\n",
    "    plt.imshow(digit_np_data_reshaped[i].T, cmap='gray')\n",
    "    plt.axis('off')\n",
    "    \n",
    "plt.show()"
   ]
  },
  {
   "cell_type": "code",
   "execution_count": 4,
   "id": "65483aac-ecf2-4406-af84-acf2f22a996e",
   "metadata": {
    "tags": []
   },
   "outputs": [
    {
     "data": {
      "text/plain": [
       "(10000, 784)"
      ]
     },
     "execution_count": 4,
     "metadata": {},
     "output_type": "execute_result"
    }
   ],
   "source": [
    "# reshape each image to be 784 (one-dimensional) for input to the neural network\n",
    "digit_np_data = digit_np_data.reshape(-1, 28 **2)  \n",
    "digit_np_data.shape"
   ]
  },
  {
   "cell_type": "code",
   "execution_count": 5,
   "id": "db689d6d-b3f4-4b4a-b3da-564979023a79",
   "metadata": {
    "tags": []
   },
   "outputs": [],
   "source": [
    "# reshape for input to convulutional autoencoder as it doesnt accept shape (10000, 784)\n",
    "images = digit_np_data.reshape(-1, 28, 28, 1)  # Reshape to (10000, 28, 28, 1)"
   ]
  },
  {
   "cell_type": "markdown",
   "id": "4646beb3-957d-42f0-a1a7-72810b1eab16",
   "metadata": {},
   "source": [
    "### Question 2A"
   ]
  },
  {
   "cell_type": "code",
   "execution_count": 14,
   "id": "c7963b37-89dd-42df-b384-f49bd9d2042d",
   "metadata": {},
   "outputs": [],
   "source": [
    "# Use keras.layers to create an input layer that matches the dimensions of your data\n",
    "input_layer = Input(shape=(28, 28, 1)) # 3D needed for CNN?"
   ]
  },
  {
   "cell_type": "markdown",
   "id": "d3c8c3f9-3adf-41dd-862d-bba023c765e5",
   "metadata": {
    "tags": []
   },
   "source": [
    "### Question 2B"
   ]
  },
  {
   "cell_type": "code",
   "execution_count": 15,
   "id": "c9f4cf7f-244e-47b9-b5b7-309b6e870f26",
   "metadata": {
    "tags": []
   },
   "outputs": [],
   "source": [
    "# Use keras.layers to create an encoding stage that has at least two layers and reduces the size of the data to 50% or less \n",
    "# (less is better). You will need to choose activation functions.\n",
    "hidden_encoding = Conv2D(16, (3, 3), activation='relu', padding='same',)(input_layer)\n",
    "encoded = MaxPooling2D((2, 2))(hidden_encoding)\n",
    "\n",
    "hidden_encoding2 = Conv2D(8, (3, 3), activation='relu', padding='same')(encoded)\n",
    "encoded2 = MaxPooling2D((2, 2))(hidden_encoding2)"
   ]
  },
  {
   "cell_type": "markdown",
   "id": "b9a360a7-a11f-4d90-803a-2463f0f99216",
   "metadata": {},
   "source": [
    "### Question 2C"
   ]
  },
  {
   "cell_type": "code",
   "execution_count": 16,
   "id": "86d36e45-1d45-41d4-aa8d-5d410349bcf0",
   "metadata": {
    "tags": []
   },
   "outputs": [],
   "source": [
    "# Use keras.layers to create a decoding stage that has at least two layers and restores the data to its original size. \n",
    "# You will need to choose activation functions.\n",
    "hidden_decoding = Conv2DTranspose(8, (3, 3), strides=2, activation='relu', padding='same',)(encoded2)\n",
    "hidden_decoding2 = Conv2DTranspose(16, (3, 3), strides=2, activation='relu', padding='same')(hidden_decoding)\n",
    "\n",
    "decoded = Conv2D(1, (3, 3), activation='sigmoid', padding='same',)(hidden_decoding2)"
   ]
  },
  {
   "cell_type": "markdown",
   "id": "1a647d57-0228-4e07-ade0-5e7ea79c73fa",
   "metadata": {},
   "source": [
    "### Question 2D"
   ]
  },
  {
   "cell_type": "code",
   "execution_count": 17,
   "id": "d4829fa1-cb7b-430b-be12-158207f06d08",
   "metadata": {
    "tags": []
   },
   "outputs": [
    {
     "name": "stdout",
     "output_type": "stream",
     "text": [
      "_________________________________________________________________\n",
      "Layer (type)                 Output Shape              Param #   \n",
      "=================================================================\n",
      "input_2 (InputLayer)         (None, 28, 28, 1)         0         \n",
      "_________________________________________________________________\n",
      "conv2d_4 (Conv2D)            (None, 28, 28, 16)        160       \n",
      "_________________________________________________________________\n",
      "max_pooling2d_3 (MaxPooling2 (None, 14, 14, 16)        0         \n",
      "_________________________________________________________________\n",
      "conv2d_5 (Conv2D)            (None, 14, 14, 8)         1160      \n",
      "_________________________________________________________________\n",
      "max_pooling2d_4 (MaxPooling2 (None, 7, 7, 8)           0         \n",
      "_________________________________________________________________\n",
      "conv2d_transpose_3 (Conv2DTr (None, 14, 14, 8)         584       \n",
      "_________________________________________________________________\n",
      "conv2d_transpose_4 (Conv2DTr (None, 28, 28, 16)        1168      \n",
      "_________________________________________________________________\n",
      "conv2d_6 (Conv2D)            (None, 28, 28, 1)         145       \n",
      "=================================================================\n",
      "Total params: 3,217\n",
      "Trainable params: 3,217\n",
      "Non-trainable params: 0\n",
      "_________________________________________________________________\n",
      "None\n",
      "Epoch 1/20\n",
      "10000/10000 [==============================] - 83s 8ms/step - loss: 0.6234\n",
      "Epoch 2/20\n",
      "10000/10000 [==============================] - 59s 6ms/step - loss: 0.3204\n",
      "Epoch 3/20\n",
      "10000/10000 [==============================] - 56s 6ms/step - loss: 0.1585\n",
      "Epoch 4/20\n",
      "10000/10000 [==============================] - 14s 1ms/step - loss: 0.1232\n",
      "Epoch 5/20\n",
      "10000/10000 [==============================] - 21s 2ms/step - loss: 0.0974\n",
      "Epoch 6/20\n",
      "10000/10000 [==============================] - 21s 2ms/step - loss: 0.0889\n",
      "Epoch 7/20\n",
      "10000/10000 [==============================] - 40s 4ms/step - loss: 0.0845\n",
      "Epoch 8/20\n",
      "10000/10000 [==============================] - 53s 5ms/step - loss: 0.0810\n",
      "Epoch 9/20\n",
      "10000/10000 [==============================] - 39s 4ms/step - loss: 0.0783\n",
      "Epoch 10/20\n",
      "10000/10000 [==============================] - 27s 3ms/step - loss: 0.0763\n",
      "Epoch 11/20\n",
      "10000/10000 [==============================] - 29s 3ms/step - loss: 0.0748\n",
      "Epoch 12/20\n",
      "10000/10000 [==============================] - 33s 3ms/step - loss: 0.0736\n",
      "Epoch 13/20\n",
      "10000/10000 [==============================] - 56s 6ms/step - loss: 0.0726\n",
      "Epoch 14/20\n",
      "10000/10000 [==============================] - 47s 5ms/step - loss: 0.0717\n",
      "Epoch 15/20\n",
      "10000/10000 [==============================] - 49s 5ms/step - loss: 0.0709\n",
      "Epoch 16/20\n",
      "10000/10000 [==============================] - 30s 3ms/step - loss: 0.0702\n",
      "Epoch 17/20\n",
      "10000/10000 [==============================] - 44s 4ms/step - loss: 0.0696\n",
      "Epoch 18/20\n",
      "10000/10000 [==============================] - 25s 3ms/step - loss: 0.0690\n",
      "Epoch 19/20\n",
      "10000/10000 [==============================] - 67s 7ms/step - loss: 0.0686\n",
      "Epoch 20/20\n",
      "10000/10000 [==============================] - 19s 2ms/step - loss: 0.0681\n"
     ]
    },
    {
     "data": {
      "text/plain": [
       "<keras.callbacks.History at 0x24e38059388>"
      ]
     },
     "execution_count": 17,
     "metadata": {},
     "output_type": "execute_result"
    }
   ],
   "source": [
    "# Compile the complete autoencoder network. \n",
    "# You will need to choose a loss function and an optimizer. \n",
    "autoencoder = Model(input_layer, decoded)\n",
    "autoencoder.compile(loss='binary_crossentropy',\n",
    "                   optimizer=Adam())\n",
    "print(autoencoder.summary())\n",
    "\n",
    "# Train the autoencoder using the image data.\n",
    "autoencoder.fit(images, images, epochs=20, batch_size=200)"
   ]
  },
  {
   "cell_type": "markdown",
   "id": "dbfb1dda-413f-4a31-a927-154bb3895274",
   "metadata": {},
   "source": [
    "### Question 2E"
   ]
  },
  {
   "cell_type": "code",
   "execution_count": 18,
   "id": "8aa735fa-0a22-421a-ba7d-7d68589df171",
   "metadata": {
    "tags": []
   },
   "outputs": [],
   "source": [
    "# Compile an encoder network from your trained input layer and encoding stage.\n",
    "encoder = Model(input_layer, encoded2)\n",
    "\n",
    "encoded_images = encoder.predict(images[:5]).reshape(-1, 49, 8)\n",
    "\n",
    "decoded_images = autoencoder.predict(images[:5]).reshape(-1, 28, 28)"
   ]
  },
  {
   "cell_type": "markdown",
   "id": "7a7dc171-4c8a-4368-b22c-59737a98679d",
   "metadata": {},
   "source": [
    "### Question 3A"
   ]
  },
  {
   "cell_type": "code",
   "execution_count": 19,
   "id": "9b998bc4-f713-4f2b-8c00-8996e6e4c7c3",
   "metadata": {
    "tags": []
   },
   "outputs": [
    {
     "data": {
      "image/png": "[encoded data removed]",
      "text/plain": [
       "<Figure size 1000x500 with 15 Axes>"
      ]
     },
     "metadata": {},
     "output_type": "display_data"
    }
   ],
   "source": [
    "# Use matplotlib.plot.imshow and matplotlib.plot.subplot and your trained models to plot first five images in the top row\n",
    "# encoded versions of those same images along the second row, and the decoded versions along the bottom row\n",
    "plt.figure(figsize=(10, 5))\n",
    "for i in range(5):\n",
    "    plt.subplot(3, 5, i+1)\n",
    "    plt.imshow(digit_np_data_reshaped[i].T, cmap='gray')\n",
    "    plt.axis('off')\n",
    "    \n",
    "    plt.subplot(3, 5, i+6)\n",
    "    plt.imshow(encoded_images[i], cmap='gray')\n",
    "    plt.axis('off')\n",
    "    \n",
    "    plt.subplot(3, 5, i+11)\n",
    "    plt.imshow(decoded_images[i].T, cmap='gray')\n",
    "    plt.axis('off')\n",
    "    \n",
    "plt.show()"
   ]
  },
  {
   "cell_type": "markdown",
   "id": "f1b9a33b-c2e3-4bff-b62c-2da4671371d9",
   "metadata": {},
   "source": [
    "Return to question 2 and adjust the hyperparameters of your model until you are able to produce decoded images that represent the original images, with an encoding that uses as little data as possible; make a record of the adjustments you try in markdown.\n",
    "\n",
    "- Images didn't look right the first time, lost a lot of information and formed grid_like images on the decoded image\n",
    "- adjusted filter numbers from 32-32-32-32 to 16-8-8-16 to help model caputure both complex and simple features\n",
    "- adjusted pooling sizes for less drastic upscaling (upscaling used to go x2 to x7, adjusted sizesgo from x2 to x2)"
   ]
  },
  {
   "cell_type": "markdown",
   "id": "28a5cd56-57d4-4070-96ce-1c39b07ea012",
   "metadata": {},
   "source": [
    "### Question 3B"
   ]
  },
  {
   "cell_type": "markdown",
   "id": "99305992-5331-456d-9e17-6c138680f4bb",
   "metadata": {},
   "source": [
    "<b> Use markdown to describe how well the autoencoder is working, making reference to the plots </b> <br>\n",
    "The autoencoder is working really well. The decoded images look very similar to the original images while also looking cleaner. The first picture in particular shows how the character was simplified to reduce noise and now looks smoother. The fifth image seems a little blurry, but with more epochs, the model may perform better."
   ]
  },
  {
   "cell_type": "markdown",
   "id": "da52b197-2ec7-4ee2-92ac-c4c196612d54",
   "metadata": {},
   "source": [
    "### Question 3C"
   ]
  },
  {
   "cell_type": "code",
   "execution_count": 20,
   "id": "f23b2715-31ba-4575-9739-9dd7b5fac51d",
   "metadata": {
    "tags": []
   },
   "outputs": [
    {
     "name": "stdout",
     "output_type": "stream",
     "text": [
      "Amount of data to store original image: 3136 \n",
      " Amount of data to store new image: 1568 \n",
      " Memory saved: 50.0%\n"
     ]
    }
   ],
   "source": [
    "# State the amount of data needed to store a single image, \n",
    "# considering that a floating-point number is 4 bytes of data. \n",
    "s = 1 #grey-scale image\n",
    "B = 4 #bytes per floating-point data\n",
    "original_size = 28 * 28 * s * B\n",
    "compressed_size = 49 * 8 * s * B\n",
    "\n",
    "# Calculate how much memory will be saved as a percentage.\n",
    "memory_saved = original_size - compressed_size\n",
    "percentage = (memory_saved/original_size) * 100\n",
    "\n",
    "print(f\"Amount of data to store original image: {original_size} \\n Amount of data to store new image: {compressed_size} \\n Memory saved: {percentage}%\")"
   ]
  },
  {
   "cell_type": "code",
   "execution_count": null,
   "id": "4f6ee306-2722-4ec7-91cf-6cacf25c2b6a",
   "metadata": {},
   "outputs": [],
   "source": []
  }
 ],
 "metadata": {
  "kernelspec": {
   "display_name": "Python 3 (ipykernel)",
   "language": "python",
   "name": "python3"
  },
  "language_info": {
   "codemirror_mode": {
    "name": "ipython",
    "version": 3
   },
   "file_extension": ".py",
   "mimetype": "text/x-python",
   "name": "python",
   "nbconvert_exporter": "python",
   "pygments_lexer": "ipython3",
   "version": "3.11.10"
  }
 },
 "nbformat": 4,
 "nbformat_minor": 5
}
